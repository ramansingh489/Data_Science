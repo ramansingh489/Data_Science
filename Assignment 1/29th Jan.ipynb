{
 "cells": [
  {
   "cell_type": "markdown",
   "id": "0af697a9",
   "metadata": {},
   "source": [
    "<font color=Blue>1. Who developed Python Programming Language?</font>\n",
    "\n",
    "Ans:- Python Programming Language was developed by Guido van Rossum in the late 1980s and was first released on February 20, 1991."
   ]
  },
  {
   "cell_type": "markdown",
   "id": "e16f66a2",
   "metadata": {},
   "source": [
    "<font color=Blue>2. Which type of Programming does Python support?</font>\n",
    "\n",
    "Ans:- Python is a multi-paradigm programming language, which supports the following programming styles or paradigms:\n",
    "\n",
    "Object-Oriented Programming (OOP)\n",
    "Structured Programming\n",
    "Functional Programming\n",
    "Aspect-Oriented Programming (AOP)\n",
    "\n",
    "It also provides facilities for low-level, bytecode-level, and even high-level programming, and is dynamically typed, meaning that variables don't have to be declared before they're used."
   ]
  },
  {
   "cell_type": "markdown",
   "id": "610d5319",
   "metadata": {},
   "source": [
    "<font color=Blue>3. Is Python case sensitive when dealing with identifiers?</font>\n",
    "\n",
    "Ans:- Yes"
   ]
  },
  {
   "cell_type": "markdown",
   "id": "c22f5d63",
   "metadata": {},
   "source": [
    "<font color=Blue>4. What is the correct extension of the python file?</font>\n",
    "\n",
    "Ans:- The correct extension for a Python file is \".py\""
   ]
  },
  {
   "cell_type": "markdown",
   "id": "b9dd46e4",
   "metadata": {},
   "source": [
    "<font color=Blue>5. Is python code complied or interpreted?</font>\n",
    "\n",
    "Ans:- Python is an interpreted language, which means that the source code is executed line by line by an interpreter, rather than being compiled to machine code and executed directly by the hardware."
   ]
  },
  {
   "cell_type": "markdown",
   "id": "2ba92269",
   "metadata": {},
   "source": [
    "<font color=Blue>6. Name a few blocks of code used to define a python language?</font>\n",
    "\n",
    "Ans:- In Python, blocks of code are defined using indentation. There are several blocks of code used in Python, including:\n",
    "\n",
    "Function definition blocks, defined using the def keyword\n",
    "Conditional blocks, defined using if statements\n",
    "Loop blocks, defined using for and while loops\n",
    "Class definition blocks, defined using the class keyword\n",
    "Exception handling blocks, defined using try and except statements"
   ]
  },
  {
   "cell_type": "markdown",
   "id": "ca4b5624",
   "metadata": {},
   "source": [
    "<font color=Blue>7. State a character used to give single-line comments in python?</font>\n",
    "\n",
    "Ans:- '#' hash symbol character used to give single-line comments in python."
   ]
  },
  {
   "cell_type": "markdown",
   "id": "9d6b8c9d",
   "metadata": {},
   "source": [
    "<font color=Blue>8. Mention functions which can help us to find the version Of python that we are currently working on?</font>\n",
    "\n",
    "Ans:- import sys\n",
    "\n",
    "print(sys.version)\n",
    "print(sys.version_info)\n"
   ]
  },
  {
   "cell_type": "code",
   "execution_count": 2,
   "id": "db9b0761",
   "metadata": {},
   "outputs": [
    {
     "name": "stdout",
     "output_type": "stream",
     "text": [
      "3.9.13 (main, Aug 25 2022, 23:51:50) [MSC v.1916 64 bit (AMD64)]\n",
      "sys.version_info(major=3, minor=9, micro=13, releaselevel='final', serial=0)\n"
     ]
    }
   ],
   "source": [
    "import sys\n",
    "\n",
    "print(sys.version)\n",
    "print(sys.version_info)\n"
   ]
  },
  {
   "cell_type": "markdown",
   "id": "5a3a9b56",
   "metadata": {},
   "source": [
    "<font color=Blue>9. Python supports the creation Of anonymous functions at runtime. using a construct called _______</font>\n",
    "\n",
    "Ans:- lambda functions"
   ]
  },
  {
   "cell_type": "markdown",
   "id": "18405f63",
   "metadata": {},
   "source": [
    "<font color=Blue>10. What does pip stand for python?</font>\n",
    "\n",
    "Ans:- preferred installer program"
   ]
  },
  {
   "cell_type": "markdown",
   "id": "eb2bc7d8",
   "metadata": {},
   "source": [
    "<font color=Blue>11. Mention a few built—in functions in python?</font>\n",
    "\n",
    "Ans:- print()\n",
    "      len()\n",
    "      max()\n",
    "      min()\n",
    "      sorted()\n",
    "      sum()\n",
    "      str()\n",
    "      int()\n",
    "      float()"
   ]
  },
  {
   "cell_type": "markdown",
   "id": "cc387ac8",
   "metadata": {},
   "source": [
    "<font color=Blue>12. What is the maximum possible length of an identifier in Python?</font>\n",
    "\n",
    "Ans:- An identifier can have a maximum length of 79 characters in Python."
   ]
  },
  {
   "cell_type": "markdown",
   "id": "342f4645",
   "metadata": {},
   "source": [
    "<font color=Blue>13. What are the benefits of using Python?</font>\n",
    "\n",
    "Ans:- Data science.\n",
    "Scientific and mathematical computing.\n",
    "Web development.\n",
    "Finance and trading.\n",
    "System automation and administration.\n",
    "Computer graphics.\n",
    "Basic game development.\n",
    "Security and penetration testing."
   ]
  },
  {
   "cell_type": "markdown",
   "id": "4c46beae",
   "metadata": {},
   "source": [
    "<font color=Blue>14. How is memory managed in Python?</font>\n",
    "\n",
    "Ans:- Memory in Python is managed by Python private heap space. All Python objects and data structures are located in a private heap. This private heap is taken care of by Python Interpreter itself, and a programmer doesn't have access to this private heap."
   ]
  },
  {
   "cell_type": "markdown",
   "id": "70dd1b93",
   "metadata": {},
   "source": [
    "<font color=Blue>15. How to install Python on Windows and set path variables?</<font>\n",
    "\n",
    "Ans:- \n",
    "\n",
    "Download Python: Visit the official Python website (https://www.python.org/downloads/) and download the latest version of Python for Windows.\n",
    "\n",
    "Install Python: Double-click the downloaded file and follow the installation wizard to install Python on your system. During the installation process, make sure to check the \"Add Python to environment variables\" option to automatically set the PATH environment variable.\n",
    "\n",
    "Verify installation: Open the Command Prompt and type \"python\" to start the Python interpreter. You should see the Python prompt, which indicates that Python is installed and the PATH environment variable is set correctly.\n",
    "\n",
    "Set the PATH environment variable manually (optional): If the \"Add Python to environment variables\" option was not selected during the installation process, you can set the PATH environment variable manually.\n",
    "\n",
    "Open the Start menu, right-click on \"Computer,\" and select \"Properties.\"\n",
    "\n",
    "Click on \"Advanced system settings.\"\n",
    "\n",
    "Click on the \"Environment Variables\" button.\n",
    "\n",
    "Under \"System Variables,\" find the \"Path\" variable and click on \"Edit.\"\n",
    "\n",
    "Add the location of the Python installation to the PATH, separated by a semicolon (e.g., \"C:\\Python37\").\n",
    "\n",
    "Restart the Command Prompt: Close the Command Prompt and reopen it to apply the changes to the PATH environment variable.\n",
    "Now, you should be able to run Python from the Command Prompt by typing \"python.\" You can also run Python scripts by specifying the script name at the command line (e.g., \"python script.py\")."
   ]
  },
  {
   "cell_type": "markdown",
   "id": "0f7a2595",
   "metadata": {},
   "source": [
    "<font color=Blue>16. Is indentation required in python?</font>\n",
    "\n",
    "Ans:- Yes"
   ]
  },
  {
   "cell_type": "code",
   "execution_count": null,
   "id": "3e3446c7",
   "metadata": {},
   "outputs": [],
   "source": []
  }
 ],
 "metadata": {
  "kernelspec": {
   "display_name": "Python 3 (ipykernel)",
   "language": "python",
   "name": "python3"
  },
  "language_info": {
   "codemirror_mode": {
    "name": "ipython",
    "version": 3
   },
   "file_extension": ".py",
   "mimetype": "text/x-python",
   "name": "python",
   "nbconvert_exporter": "python",
   "pygments_lexer": "ipython3",
   "version": "3.9.13"
  }
 },
 "nbformat": 4,
 "nbformat_minor": 5
}
