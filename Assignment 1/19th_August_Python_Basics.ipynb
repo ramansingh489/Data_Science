{
 "cells": [
  {
   "cell_type": "markdown",
   "id": "793d5130-576e-4700-ab85-7c6442d1f3ee",
   "metadata": {},
   "source": [
    "# Python Basics Variable\n",
    "\n",
    "1. Declare two variables, `x` and `y`, and assign them integer values. Swap the\r\n",
    "values of these variables without using any temporary variable.\r\n",
    "2. Create a program that calculates the area of a rectangle. Take the length and\r\n",
    "width as inputs from the user and store them in variables. Calculate and\r\n",
    "display the area.\r\n",
    "3. Write a Python program that converts temperatures from Celsius to\r\n",
    "Fahrenheit. Take the temperature in Celsius as input, store it in a variable,\r\n",
    "convert it to Fahrenheit, and display the result."
   ]
  },
  {
   "cell_type": "code",
   "execution_count": 4,
   "id": "9027d3ab-19eb-47c0-9a45-65d626c9ef5c",
   "metadata": {},
   "outputs": [
    {
     "name": "stdout",
     "output_type": "stream",
     "text": [
      "x = 5\n",
      "y = 10\n"
     ]
    }
   ],
   "source": [
    "# Solution 1:\n",
    "\n",
    "x = 10\n",
    "y = 5\n",
    "\n",
    "x, y = y, x\n",
    "\n",
    "print(\"x =\", x)\n",
    "print(\"y =\", y)"
   ]
  },
  {
   "cell_type": "code",
   "execution_count": 2,
   "id": "d0f3a526-5cf3-405b-a356-5d37a72b2e2c",
   "metadata": {},
   "outputs": [
    {
     "name": "stdout",
     "output_type": "stream",
     "text": [
      "50\n"
     ]
    }
   ],
   "source": [
    "# Solution 2:\n",
    "length = 10 \n",
    "width = 5\n",
    "\n",
    "area = length * width\n",
    "\n",
    "print(area)"
   ]
  },
  {
   "cell_type": "code",
   "execution_count": 5,
   "id": "bd99561d-28d6-427c-8b5e-270b4ea87aa1",
   "metadata": {},
   "outputs": [
    {
     "name": "stdout",
     "output_type": "stream",
     "text": [
      "77.0\n"
     ]
    }
   ],
   "source": [
    "# Solution 3:\n",
    "celsius = 25\n",
    "\n",
    "fahrenheit = (celsius * 9/5) + 32\n",
    "\n",
    "print(fahrenheit)"
   ]
  },
  {
   "cell_type": "markdown",
   "id": "cd850fd9-7728-40d4-8403-a773484e69cc",
   "metadata": {},
   "source": [
    "# String Based Questions\n",
    "1. Write a Python program that takes a string as input and prints the length of\r\n",
    "the string.\r\n",
    "2. Create a program that takes a sentence from the user and counts the number\r\n",
    "of vowels (a, e, i, o, u) in the string.\r\n",
    "3. Given a string, reverse the order of characters using string slicing and print\r\n",
    "the reversed string.\r\n",
    "4. Write a program that takes a string as input and checks if it is a palindrome\r\n",
    "(reads the same forwards and backwards).\r\n",
    "5. Create a program that takes a string as input and removes all the spaces from\r\n",
    "it. Print the modified string without spaces."
   ]
  },
  {
   "cell_type": "code",
   "execution_count": 6,
   "id": "a83eec33-ed20-40c5-b709-e33e44d4edac",
   "metadata": {},
   "outputs": [
    {
     "name": "stdin",
     "output_type": "stream",
     "text": [
      "Enter a word:  raman\n"
     ]
    },
    {
     "name": "stdout",
     "output_type": "stream",
     "text": [
      "5\n"
     ]
    }
   ],
   "source": [
    "# Solution 1:\n",
    "x = input('Enter a word: ')\n",
    "print(len(x))"
   ]
  },
  {
   "cell_type": "code",
   "execution_count": 17,
   "id": "fc243c3d-f89f-4541-a62b-b9d199c634c6",
   "metadata": {},
   "outputs": [
    {
     "name": "stdout",
     "output_type": "stream",
     "text": [
      "26\n"
     ]
    }
   ],
   "source": [
    "# Solution 2:\n",
    "sentence = \"Create a program that takes a sentence from the user and counts the number of vowels\"\n",
    "\n",
    "vowels = \"aeiou\"\n",
    "\n",
    "vowel_count = 0\n",
    "\n",
    "for char in sentence:\n",
    "    if char.lower() in vowels:\n",
    "        vowel_count += 1\n",
    "\n",
    "print(vowel_count)"
   ]
  },
  {
   "cell_type": "code",
   "execution_count": 20,
   "id": "9038a79d-e397-4578-a906-3e05cc176dc7",
   "metadata": {},
   "outputs": [
    {
     "name": "stdout",
     "output_type": "stream",
     "text": [
      "gnicils gnirts gnisu sretcarahc fo redro eht esrever\n"
     ]
    }
   ],
   "source": [
    "# Solution 3\n",
    "x = 'reverse the order of characters using string slicing'\n",
    "print(x[::-1])"
   ]
  },
  {
   "cell_type": "code",
   "execution_count": 23,
   "id": "025c24c2-a806-4378-8bfe-0dc2f400c32d",
   "metadata": {},
   "outputs": [
    {
     "name": "stdout",
     "output_type": "stream",
     "text": [
      "pwskills  is not palimdrome\n"
     ]
    }
   ],
   "source": [
    "# Solution 4\n",
    "# x = 'racecar'\n",
    "x = 'pwskills'\n",
    "\n",
    "\n",
    "if (x == x[::-1]):\n",
    "    print(x, ' is palimdrome')\n",
    "else:\n",
    "    print(x, ' is not palimdrome')"
   ]
  },
  {
   "cell_type": "code",
   "execution_count": 24,
   "id": "932c63e7-0d35-42ef-b8ec-d6724fb12138",
   "metadata": {},
   "outputs": [
    {
     "name": "stdout",
     "output_type": "stream",
     "text": [
      "Createaprogramthattakesastringasinputandremovesallthespacesfromit.Printthemodifiedstringwithoutspaces.\n"
     ]
    }
   ],
   "source": [
    "space = 'Create a program that takes a string as input and removes all the spaces from it. Print the modified string without spaces.'\n",
    "\n",
    "print(space.replace(' ', ''))"
   ]
  },
  {
   "cell_type": "code",
   "execution_count": null,
   "id": "e104a4e7-abbd-4435-89da-ed0d230b5dda",
   "metadata": {},
   "outputs": [],
   "source": []
  }
 ],
 "metadata": {
  "kernelspec": {
   "display_name": "Python 3 (ipykernel)",
   "language": "python",
   "name": "python3"
  },
  "language_info": {
   "codemirror_mode": {
    "name": "ipython",
    "version": 3
   },
   "file_extension": ".py",
   "mimetype": "text/x-python",
   "name": "python",
   "nbconvert_exporter": "python",
   "pygments_lexer": "ipython3",
   "version": "3.11.8"
  }
 },
 "nbformat": 4,
 "nbformat_minor": 5
}
