{
 "cells": [
  {
   "cell_type": "markdown",
   "id": "47d7439b",
   "metadata": {},
   "source": [
    "### <font color=purple>QI. Explain with an example each when to use a for loop and a while loop.</font>"
   ]
  },
  {
   "cell_type": "markdown",
   "id": "46e59a61",
   "metadata": {},
   "source": [
    "Ans:\n",
    "\n",
    "> <font color=grey><ins>For Loop:</ins></font> A for loop is an iteration method that is best used when you know the number of iterations ahead of time.\n",
    "\n",
    "> <font color=grey><ins>While Loop:</ins></font> A while loop is an iteration method that is best used when you don't know the number of iterations ahead of time."
   ]
  },
  {
   "cell_type": "markdown",
   "id": "1dbf98bc",
   "metadata": {},
   "source": [
    "### <font color=purple>Q2. Write a python program to print the sum and product of the first 10 natural numbers using for and while loop.</font>"
   ]
  },
  {
   "cell_type": "code",
   "execution_count": 27,
   "id": "ab761858",
   "metadata": {},
   "outputs": [
    {
     "name": "stdout",
     "output_type": "stream",
     "text": [
      "total sum of first 10 natural numbers using for loop: 55\n",
      "total products of first 10 natural numbers using for loop: 3628800\n",
      "total sum of first 10 natural numbers using while loop: 55\n",
      "total sum of first 10 natural numbers using while loop: 3628800\n"
     ]
    }
   ],
   "source": [
    "# using for loop\n",
    "\n",
    "sum_l = 0\n",
    "product = 1\n",
    "\n",
    "for i in range(1,11):\n",
    "    sum_l = sum_l + i\n",
    "    product = product * i\n",
    "    \n",
    "print(\"total sum of first 10 natural numbers using for loop:\", sum_l)\n",
    "print(\"total products of first 10 natural numbers using for loop:\",product)\n",
    "\n",
    "\n",
    "\n",
    "# using while loop\n",
    "\n",
    "sum_l = 0\n",
    "product = 1\n",
    "i = 1\n",
    "\n",
    "while i <= 10:\n",
    "    sum_l = sum_l + i\n",
    "    product = product * i\n",
    "    i = i+1\n",
    "    \n",
    "print(\"total sum of first 10 natural numbers using while loop:\",sum_l)\n",
    "print(\"total sum of first 10 natural numbers using while loop:\",product)"
   ]
  },
  {
   "cell_type": "markdown",
   "id": "81055270",
   "metadata": {},
   "source": [
    "### <font color=purple>Q3. Create a python program to compute the electricity bill for a household.The per-unit charges in rupees are as follows: For the first 100 units, the user will be charged Rs. 4.5 per unit, for the next 100 units. the user will be charged Rs. 6 per unit, and for the next 100 units, the user will be charged RS. IO per unit, After 300 units and above the user Will be charged RS. 20 per unit. You are required to take the units of electricity consumed in a month from the user as input. your program must pass this test case: when the unit of electricity consumed by the user in a month is 310, the total electricity bill should be 2250.</font>"
   ]
  },
  {
   "cell_type": "code",
   "execution_count": 23,
   "id": "4bc2b00e",
   "metadata": {},
   "outputs": [
    {
     "name": "stdout",
     "output_type": "stream",
     "text": [
      "units: 310\n",
      "totat electricity bill: Rs 2250.0\n"
     ]
    }
   ],
   "source": [
    "# 0 - 100 = 4.5 per unit\n",
    "# 101 - 200 = 6 per unit\n",
    "# 201 - 300 = 10 per unit\n",
    "# 301 above = 20 per unit\n",
    "\n",
    "u = float(input(\"units: \"))\n",
    "\n",
    "if u <= 100:\n",
    "    totat_electricity_bill = u*4.5\n",
    "    print('totat electricity bill: Rs.: ',totat_electricity_bill)\n",
    "elif u > 100 and u <= 200:\n",
    "    totat_electricity_bill = (100*4.5) + (u-100)*6\n",
    "    print('totat electricity bill: Rs.: ',totat_electricity_bill)\n",
    "elif u > 200 and u <= 300:\n",
    "    totat_electricity_bill = (100*4.5) + (100*6) + (u-200)*10\n",
    "    print('totat electricity bill: Rs.: ',totat_electricity_bill)\n",
    "elif u > 300:\n",
    "    totat_electricity_bill = (100*4.5) + (100*6) + (100*10) + (u-300)*20\n",
    "    print('totat electricity bill: Rs.',totat_electricity_bill)\n",
    "else:\n",
    "    print(\"Incorrect entered\")"
   ]
  },
  {
   "cell_type": "markdown",
   "id": "3fc1d11d",
   "metadata": {},
   "source": [
    "### <font color=purple>Q4. Create a list of numbers from 1 to 100. Use for loop and while loop to calculate the cube of each number and if the cube of that number is divisible by 4 or 5 then append that number in a list and print that list.</font>"
   ]
  },
  {
   "cell_type": "code",
   "execution_count": 51,
   "id": "2581d100",
   "metadata": {},
   "outputs": [
    {
     "name": "stdout",
     "output_type": "stream",
     "text": [
      "Divisible by 4 or 5 using for loop\n",
      " [8, 64, 125, 216, 512, 1000, 1728, 2744, 3375, 4096, 5832, 8000, 10648, 13824, 15625, 17576, 21952, 27000, 32768, 39304, 42875, 46656, 54872, 64000, 74088, 85184, 91125, 97336, 110592, 125000, 140608, 157464, 166375, 175616, 195112, 216000, 238328, 262144, 274625, 287496, 314432, 343000, 373248, 405224, 421875, 438976, 474552, 512000, 551368, 592704, 614125, 636056, 681472, 729000, 778688, 830584, 857375, 884736, 941192, 1000000]\n",
      "Divisible by 4 or 5 using while loop\n",
      " [8, 64, 125, 216, 512, 1000, 1728, 2744, 3375, 4096, 5832, 8000, 10648, 13824, 15625, 17576, 21952, 27000, 32768, 39304, 42875, 46656, 54872, 64000, 74088, 85184, 91125, 97336, 110592, 125000, 140608, 157464, 166375, 175616, 195112, 216000, 238328, 262144, 274625, 287496, 314432, 343000, 373248, 405224, 421875, 438976, 474552, 512000, 551368, 592704, 614125, 636056, 681472, 729000, 778688, 830584, 857375, 884736, 941192, 1000000]\n"
     ]
    }
   ],
   "source": [
    "# using for loop\n",
    "\n",
    "l = list(range(1,101))\n",
    "Divisible_4_or_5 = []\n",
    "not_div_4_or_5 = []\n",
    "\n",
    "# print (l)\n",
    "\n",
    "for i in l:\n",
    "    cube = i*i*i\n",
    "    if cube%4==0 or cube%5==0:\n",
    "        Divisible_4_or_5.append(cube)\n",
    "    else:\n",
    "        not_div_4_or_5.append(cube)\n",
    "print(\"Divisible by 4 or 5 using for loop\\n\",Divisible_4_or_5)\n",
    "\n",
    "# print(\"Not divisble by 4 or 5 using for loop\\n\", not_div_4_or_5)\n",
    "\n",
    "\n",
    "\n",
    "# using while loop\n",
    "\n",
    "Divisible_4_or_5 = []\n",
    "not_div_4_or_5 = []\n",
    "\n",
    "i = 1\n",
    "\n",
    "while i <=100:\n",
    "    cube = i*i*i\n",
    "    if cube%4==0 or cube%5==0:\n",
    "        Divisible_4_or_5.append(cube)\n",
    "    else:\n",
    "        not_div_4_or_5.append(cube)\n",
    "    i = i+1\n",
    "print(\"Divisible by 4 or 5 using while loop\\n\",Divisible_4_or_5)"
   ]
  },
  {
   "cell_type": "markdown",
   "id": "122529c8",
   "metadata": {},
   "source": [
    "### <font color=purple>Q5. Write a program to filter count vowels in the below—given string.</font>\n",
    "    string = \"I want to become a data scientist\""
   ]
  },
  {
   "cell_type": "code",
   "execution_count": 55,
   "id": "22a198a9",
   "metadata": {},
   "outputs": [
    {
     "name": "stdout",
     "output_type": "stream",
     "text": [
      "12\n"
     ]
    }
   ],
   "source": [
    "string = \"I want to become a data scientist\"\n",
    "count = 0\n",
    "vowels = \"aeiouAEIOU\"\n",
    "\n",
    "for i in string:\n",
    "    if i in vowels:\n",
    "        count = count+1\n",
    "print(count)"
   ]
  }
 ],
 "metadata": {
  "kernelspec": {
   "display_name": "Python 3 (ipykernel)",
   "language": "python",
   "name": "python3"
  },
  "language_info": {
   "codemirror_mode": {
    "name": "ipython",
    "version": 3
   },
   "file_extension": ".py",
   "mimetype": "text/x-python",
   "name": "python",
   "nbconvert_exporter": "python",
   "pygments_lexer": "ipython3",
   "version": "3.9.13"
  }
 },
 "nbformat": 4,
 "nbformat_minor": 5
}
